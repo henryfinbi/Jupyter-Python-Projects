{
 "cells": [
  {
   "cell_type": "markdown",
   "id": "c3f52726",
   "metadata": {},
   "source": [
    "# Basic Automated File Sorter in File Explorer"
   ]
  },
  {
   "cell_type": "code",
   "execution_count": 25,
   "id": "c73862fa",
   "metadata": {},
   "outputs": [],
   "source": [
    "# Importing the 'os' module for operating system-related functions\n",
    "# Importing the 'shutil' module for file and directory operations\n",
    "import os,  shutil"
   ]
  },
  {
   "cell_type": "code",
   "execution_count": 26,
   "id": "91b118f4",
   "metadata": {},
   "outputs": [],
   "source": [
    "# Setting the file path using a raw string literal\n",
    "path = r\"D:/Administrator/Desktop/Folder for Anaconda Sorting/\""
   ]
  },
  {
   "cell_type": "code",
   "execution_count": 28,
   "id": "0e53b8c4",
   "metadata": {},
   "outputs": [],
   "source": [
    "# Retrieving a list of filenames in the specified directory\n",
    "file_name = os.listdir(path)"
   ]
  },
  {
   "cell_type": "code",
   "execution_count": 32,
   "id": "d775c4c0",
   "metadata": {},
   "outputs": [],
   "source": [
    "folder_names = ['csv files', 'png files', 'text files' ]\n",
    "\n",
    "\n",
    "for loop in range(0,3):\n",
    "    if not os.path.exists(path + folder_names[loop]):\n",
    "        #print(path + folder_names[loop])\n",
    "        os.makedirs((path + folder_names[loop]))\n",
    "        \n",
    "for file in file_name:\n",
    "    if \".csv\" in file  and not os.path.exists(path + \"csv files/\" + file):\n",
    "        shutil.move(path + file, path + \"csv files/\" + file)\n",
    "    elif \".png\" in file  and not os.path.exists(path + \"png files/\" + file):\n",
    "         shutil.move(path + file, path + \"png files/\" + file)\n",
    "    elif \".txt\" in file  and not os.path.exists(path + \"text files/\" + file):\n",
    "         shutil.move(path + file, path + \"text files/\" + file)\n",
    "    "
   ]
  },
  {
   "cell_type": "code",
   "execution_count": null,
   "id": "78bc71bf",
   "metadata": {},
   "outputs": [],
   "source": [
    "#Explanation of the code above \n",
    "# List of folder names to be created\n",
    "folder_names = ['csv files', 'png files', 'text files']\n",
    "\n",
    "# Creating folders if they do not exist\n",
    "for loop in range(0, 3):\n",
    "    if not os.path.exists(path + folder_names[loop]):\n",
    "        # Create folder\n",
    "        os.makedirs((path + folder_names[loop]))\n",
    "\n",
    "# Moving files to their respective folders based on file extension\n",
    "for file in file_name:\n",
    "    if \".csv\" in file and not os.path.exists(path + \"csv files/\" + file):\n",
    "        # Move CSV files to 'csv files' folder\n",
    "        shutil.move(path + file, path + \"csv files/\" + file)\n",
    "    elif \".png\" in file and not os.path.exists(path + \"png files/\" + file):\n",
    "        # Move PNG files to 'png files' folder\n",
    "        shutil.move(path + file, path + \"png files/\" + file)\n",
    "    elif \".txt\" in file and not os.path.exists(path + \"text files/\" + file):\n",
    "        # Move text files to 'text files' folder\n",
    "        shutil.move(path + file, path + \"text files/\" + file)"
   ]
  },
  {
   "cell_type": "code",
   "execution_count": null,
   "id": "d4772e56",
   "metadata": {},
   "outputs": [],
   "source": []
  },
  {
   "cell_type": "code",
   "execution_count": null,
   "id": "6dd71f47",
   "metadata": {},
   "outputs": [],
   "source": []
  },
  {
   "cell_type": "code",
   "execution_count": null,
   "id": "5f0992a9",
   "metadata": {},
   "outputs": [],
   "source": []
  },
  {
   "cell_type": "code",
   "execution_count": null,
   "id": "2f0ba41d",
   "metadata": {},
   "outputs": [],
   "source": []
  },
  {
   "cell_type": "code",
   "execution_count": null,
   "id": "3bf18a87",
   "metadata": {},
   "outputs": [],
   "source": []
  },
  {
   "cell_type": "code",
   "execution_count": null,
   "id": "4f0d8921",
   "metadata": {},
   "outputs": [],
   "source": []
  },
  {
   "cell_type": "code",
   "execution_count": null,
   "id": "9b406a1f",
   "metadata": {},
   "outputs": [],
   "source": []
  },
  {
   "cell_type": "code",
   "execution_count": null,
   "id": "11eec79e",
   "metadata": {},
   "outputs": [],
   "source": []
  },
  {
   "cell_type": "code",
   "execution_count": null,
   "id": "2ab4eb81",
   "metadata": {},
   "outputs": [],
   "source": []
  },
  {
   "cell_type": "code",
   "execution_count": null,
   "id": "8b03e6cc",
   "metadata": {},
   "outputs": [],
   "source": []
  },
  {
   "cell_type": "code",
   "execution_count": null,
   "id": "1c52356a",
   "metadata": {},
   "outputs": [],
   "source": []
  },
  {
   "cell_type": "code",
   "execution_count": null,
   "id": "903e32ff",
   "metadata": {},
   "outputs": [],
   "source": []
  }
 ],
 "metadata": {
  "kernelspec": {
   "display_name": "Python 3 (ipykernel)",
   "language": "python",
   "name": "python3"
  },
  "language_info": {
   "codemirror_mode": {
    "name": "ipython",
    "version": 3
   },
   "file_extension": ".py",
   "mimetype": "text/x-python",
   "name": "python",
   "nbconvert_exporter": "python",
   "pygments_lexer": "ipython3",
   "version": "3.9.12"
  }
 },
 "nbformat": 4,
 "nbformat_minor": 5
}
