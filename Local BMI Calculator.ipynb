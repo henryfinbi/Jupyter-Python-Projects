{
 "cells": [
  {
   "cell_type": "markdown",
   "id": "7ae65dd1",
   "metadata": {},
   "source": [
    "# BMI Calculator with [CalculatorSoup](https://www.calculatorsoup.com/calculators/health/bmi-calculator.php) as a Guide"
   ]
  },
  {
   "cell_type": "code",
   "execution_count": 10,
   "id": "affad484",
   "metadata": {},
   "outputs": [
    {
     "name": "stdin",
     "output_type": "stream",
     "text": [
      "Enter your name:  Chisom\n",
      "Enter your weight in pounds:  180\n",
      "Enter your height in inches:  72\n"
     ]
    },
    {
     "name": "stdout",
     "output_type": "stream",
     "text": [
      "Your BMI is: 24.409722222222225\n",
      "Chisom, you have a normal weight.\n"
     ]
    }
   ],
   "source": [
    "# User input for name, weight, and height\n",
    "name = input(\"Enter your name: \")\n",
    "weight = int(input(\"Enter your weight in pounds: \"))\n",
    "height = int(input(\"Enter your height in inches: \"))\n",
    "\n",
    "# BMI calculation using the formula: BMI = (weight) / (height * height) * 703\n",
    "BMI = (weight / (height * height)) * 703\n",
    "\n",
    "# Display the calculated BMI\n",
    "print(\"Your BMI is:\", BMI)\n",
    "\n",
    "# Check BMI ranges and provide corresponding messages\n",
    "if BMI > 0:\n",
    "    if BMI < 18.5:\n",
    "        print(name + \", you are underweight.\")\n",
    "    elif BMI < 25:\n",
    "        print(name + \", you have a normal weight.\")\n",
    "    elif BMI < 30:\n",
    "        print(name + \", you are overweight.\")\n",
    "    else:\n",
    "        print(name + \", you are obese.\")\n",
    "else:\n",
    "    print(\"Enter valid inputs.\")"
   ]
  },
  {
   "cell_type": "code",
   "execution_count": null,
   "id": "92ebf3db",
   "metadata": {},
   "outputs": [],
   "source": []
  },
  {
   "cell_type": "code",
   "execution_count": null,
   "id": "54515d95",
   "metadata": {},
   "outputs": [],
   "source": []
  },
  {
   "cell_type": "code",
   "execution_count": null,
   "id": "6dc32427",
   "metadata": {},
   "outputs": [],
   "source": []
  },
  {
   "cell_type": "code",
   "execution_count": null,
   "id": "6d3a3fc1",
   "metadata": {},
   "outputs": [],
   "source": []
  },
  {
   "cell_type": "code",
   "execution_count": null,
   "id": "157b9319",
   "metadata": {},
   "outputs": [],
   "source": []
  },
  {
   "cell_type": "code",
   "execution_count": null,
   "id": "29712d4c",
   "metadata": {},
   "outputs": [],
   "source": []
  },
  {
   "cell_type": "code",
   "execution_count": null,
   "id": "dc54c3ad",
   "metadata": {},
   "outputs": [],
   "source": []
  },
  {
   "cell_type": "code",
   "execution_count": null,
   "id": "cc6d730c",
   "metadata": {},
   "outputs": [],
   "source": []
  },
  {
   "cell_type": "code",
   "execution_count": null,
   "id": "9b22866e",
   "metadata": {},
   "outputs": [],
   "source": []
  },
  {
   "cell_type": "code",
   "execution_count": null,
   "id": "ab8b9e00",
   "metadata": {},
   "outputs": [],
   "source": []
  },
  {
   "cell_type": "code",
   "execution_count": null,
   "id": "9a4259d2",
   "metadata": {},
   "outputs": [],
   "source": []
  },
  {
   "cell_type": "code",
   "execution_count": null,
   "id": "623f59a0",
   "metadata": {},
   "outputs": [],
   "source": []
  },
  {
   "cell_type": "code",
   "execution_count": null,
   "id": "19bd2611",
   "metadata": {},
   "outputs": [],
   "source": []
  },
  {
   "cell_type": "code",
   "execution_count": null,
   "id": "68e90a82",
   "metadata": {},
   "outputs": [],
   "source": []
  },
  {
   "cell_type": "code",
   "execution_count": null,
   "id": "cfb2c44e",
   "metadata": {},
   "outputs": [],
   "source": []
  },
  {
   "cell_type": "code",
   "execution_count": null,
   "id": "50eeb1d8",
   "metadata": {},
   "outputs": [],
   "source": []
  },
  {
   "cell_type": "code",
   "execution_count": null,
   "id": "7b6f5e64",
   "metadata": {},
   "outputs": [],
   "source": []
  },
  {
   "cell_type": "code",
   "execution_count": null,
   "id": "07ef14a3",
   "metadata": {},
   "outputs": [],
   "source": []
  }
 ],
 "metadata": {
  "kernelspec": {
   "display_name": "Python 3 (ipykernel)",
   "language": "python",
   "name": "python3"
  },
  "language_info": {
   "codemirror_mode": {
    "name": "ipython",
    "version": 3
   },
   "file_extension": ".py",
   "mimetype": "text/x-python",
   "name": "python",
   "nbconvert_exporter": "python",
   "pygments_lexer": "ipython3",
   "version": "3.9.12"
  }
 },
 "nbformat": 4,
 "nbformat_minor": 5
}
